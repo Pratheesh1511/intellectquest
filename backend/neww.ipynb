{
 "cells": [
  {
   "cell_type": "code",
   "execution_count": 105,
   "metadata": {},
   "outputs": [
    {
     "name": "stdout",
     "output_type": "stream",
     "text": [
      "https://ejicwtmscywsdzsvxngo.supabase.co\n"
     ]
    }
   ],
   "source": [
    "import os\n",
    "\n",
    "from langchain_community.vectorstores import SupabaseVectorStore\n",
    "from langchain_core.documents import Document\n",
    "from langchain_community.embeddings import CohereEmbeddings\n",
    "from langchain_community.chat_models import ChatCohere\n",
    "from supabase.client import Client, create_client\n",
    "import dotenv, os\n",
    "\n",
    "dotenv.load_dotenv()\n",
    "supabase_url = os.getenv(\"SUPABASE_URL\")\n",
    "print(supabase_url)\n",
    "supabase_key = os.getenv(\"SUPABASE_SERVICE_KEY\")\n",
    "supabase: Client = create_client(supabase_url, supabase_key)\n",
    "\n",
    "user_query = \"what is a linked list\"\n",
    "\n",
    "API_KEY_OK = os.getenv('COHERE_API_KEY')\n",
    "\n",
    "# Create cohere's chat model and embeddings objects\n",
    "cohere_chat_model = ChatCohere(cohere_api_key=API_KEY_OK)\n",
    "cohere_embeddings = CohereEmbeddings(cohere_api_key=API_KEY_OK)"
   ]
  },
  {
   "cell_type": "code",
   "execution_count": 123,
   "metadata": {},
   "outputs": [],
   "source": [
    "from langchain_community.document_loaders import TextLoader\n",
    "from langchain_text_splitters import CharacterTextSplitter\n",
    "\n",
    "loader = TextLoader(\"D:\\code\\shlokathon\\intellectquest\\documents\\Array.txt\")\n",
    "documents = loader.load()\n",
    "text_splitter = CharacterTextSplitter(chunk_size=1000, chunk_overlap=0)\n",
    "docs = text_splitter.split_documents(documents)"
   ]
  },
  {
   "cell_type": "code",
   "execution_count": 124,
   "metadata": {},
   "outputs": [
    {
     "name": "stderr",
     "output_type": "stream",
     "text": [
      "2024-03-18 02:49:05,249:INFO - HTTP Request: POST https://ejicwtmscywsdzsvxngo.supabase.co/rest/v1/documents \"HTTP/1.1 201 Created\"\n"
     ]
    }
   ],
   "source": [
    "vector_store = SupabaseVectorStore.from_documents(\n",
    "    docs,\n",
    "    cohere_embeddings,\n",
    "    client=supabase,\n",
    "    table_name=\"documents\",\n",
    "    query_name=\"match_documents\",\n",
    "    chunk_size=500,\n",
    ")"
   ]
  },
  {
   "cell_type": "code",
   "execution_count": 39,
   "metadata": {},
   "outputs": [],
   "source": [
    "vector_store = SupabaseVectorStore(\n",
    "    embedding=cohere_embeddings,\n",
    "    client=supabase,\n",
    "    table_name=\"documents\",\n",
    "    query_name=\"match_documents\",\n",
    ")"
   ]
  },
  {
   "cell_type": "code",
   "execution_count": 111,
   "metadata": {},
   "outputs": [
    {
     "name": "stderr",
     "output_type": "stream",
     "text": [
      "2024-03-18 02:27:24,469:INFO - HTTP Request: POST https://ejicwtmscywsdzsvxngo.supabase.co/rest/v1/rpc/match_documents?limit=4 \"HTTP/1.1 200 OK\"\n"
     ]
    }
   ],
   "source": [
    "matched_docs = vector_store.similarity_search(user_query)"
   ]
  },
  {
   "cell_type": "code",
   "execution_count": 117,
   "metadata": {},
   "outputs": [
    {
     "name": "stdout",
     "output_type": "stream",
     "text": [
      "Linked List Module Documentation\n",
      "================================\n",
      "\n",
      "Introduction\n",
      "------------\n",
      "A linked list is a linear data structure where elements are not stored at contiguous memory locations. Each element is a separate object called a \"node\" that contains data and a reference (link) to the next node in the sequence.\n",
      "\n",
      "Concepts and Definitions\n",
      "------------------------\n",
      "- **Node**: An individual part of a linked list containing the data and the link to the next node.\n",
      "- **Head**: The first node in a linked list.\n",
      "- **Tail**: The last node in a linked list, which points to NULL.\n",
      "\n",
      "Use Cases\n",
      "---------\n",
      "- Implementing stacks, queues, graphs, and other complex data structures.\n",
      "- Dynamic memory allocation where the size of the data structure can change over time.\n"
     ]
    }
   ],
   "source": [
    "print(matched_docs[0].page_content)\n"
   ]
  },
  {
   "cell_type": "code",
   "execution_count": 102,
   "metadata": {},
   "outputs": [],
   "source": [
    "from langchain.retrievers import ContextualCompressionRetriever, CohereRagRetriever\n",
    "from langchain.retrievers.document_compressors import CohereRerank\n",
    "from langchain_community.embeddings import CohereEmbeddings\n",
    "from langchain_community.chat_models import ChatCohere\n",
    "from langchain.text_splitter import CharacterTextSplitter\n",
    "from langchain_community.document_loaders import TextLoader\n",
    "from langchain_community.vectorstores import Chroma\n",
    "import os, dotenv\n",
    "import cohere"
   ]
  },
  {
   "cell_type": "code",
   "execution_count": 118,
   "metadata": {},
   "outputs": [],
   "source": [
    "co = cohere.Client(os.getenv('COHERE_API_KEY'))\n"
   ]
  },
  {
   "cell_type": "code",
   "execution_count": 121,
   "metadata": {},
   "outputs": [
    {
     "name": "stdout",
     "output_type": "stream",
     "text": [
      "[{'title': 'Linked List Module Documentation', 'snippet': '================================\\n\\nIntroduction'}, {'title': 'A linked list is a linear data structure where elements are not stored at contiguous memory locations. Each element is a separate object called a \"node\" that contains data and a reference (link) to the next node in the sequence.', 'snippet': 'Concepts and Definitions'}, {'title': '- **Node**: An individual part of a linked list containing the data and the link to the next node.', 'snippet': '- **Head**: The first node in a linked list.\\n- **Tail**: The last node in a linked list, which points to NULL.\\n\\nUse Cases'}, {'title': '- Implementing stacks, queues, graphs, and other complex data structures.', 'snippet': '- Dynamic memory allocation where the size of the data structure can change over time.'}]\n"
     ]
    }
   ],
   "source": [
    "import re\n",
    "\n",
    "page_content = matched_docs[0].page_content\n",
    "\n",
    "# Split the page content into sections based on the pattern\n",
    "sections = re.split(r'\\n-{2,}\\n', page_content)\n",
    "\n",
    "# Extract the title and snippet from each section\n",
    "result = []\n",
    "for section in sections:\n",
    "    lines = section.strip().split('\\n')\n",
    "    title = lines[0].strip()\n",
    "    snippet = '\\n'.join(lines[1:]).strip()\n",
    "    result.append({\"title\": title, \"snippet\": snippet})\n",
    "\n",
    "print(result)\n"
   ]
  },
  {
   "cell_type": "code",
   "execution_count": 122,
   "metadata": {},
   "outputs": [
    {
     "name": "stdout",
     "output_type": "stream",
     "text": [
      "A linked list is a linear data structure comprising elements known as nodes. Each node contains data and a reference (link) to the next node in the sequence. The first node in the linked list is called the head, while the last node is referred to as the tail, which points to NULL. Linked lists are useful because they allow for dynamic memory allocation, where the size of the data structure can change over time.\n"
     ]
    }
   ],
   "source": [
    "response = co.chat(\n",
    "        message=user_query,\n",
    "        documents = result)\n",
    "print(response.text)"
   ]
  },
  {
   "cell_type": "code",
   "execution_count": null,
   "metadata": {},
   "outputs": [],
   "source": []
  }
 ],
 "metadata": {
  "kernelspec": {
   "display_name": "Python 3",
   "language": "python",
   "name": "python3"
  },
  "language_info": {
   "codemirror_mode": {
    "name": "ipython",
    "version": 3
   },
   "file_extension": ".py",
   "mimetype": "text/x-python",
   "name": "python",
   "nbconvert_exporter": "python",
   "pygments_lexer": "ipython3",
   "version": "3.11.8"
  }
 },
 "nbformat": 4,
 "nbformat_minor": 2
}
